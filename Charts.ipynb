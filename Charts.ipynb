{
 "cells": [
  {
   "cell_type": "code",
   "execution_count": 1,
   "metadata": {},
   "outputs": [],
   "source": [
    "import os\n",
    "import swimclub\n",
    "import webbrowser\n",
    "\n",
    "fn = \"Darius-13-100m-Fly.txt\"\n",
    "\n",
    "(swimmer, age, distance, stroke, *_) = swimclub.read_swim_data(fn)\n",
    "\n",
    "#title = swimmer + \" (Under \" + age +\") \" + distance + \" \" + stroke\n",
    "\n",
    "#title"
   ]
  },
  {
   "cell_type": "code",
   "execution_count": null,
   "metadata": {},
   "outputs": [],
   "source": []
  },
  {
   "cell_type": "markdown",
   "metadata": {},
   "source": [
    "## mit f-Strings"
   ]
  },
  {
   "cell_type": "code",
   "execution_count": 2,
   "metadata": {},
   "outputs": [
    {
     "data": {
      "text/plain": [
       "'Darius (Under 13 ) 100m Fly'"
      ]
     },
     "execution_count": 2,
     "metadata": {},
     "output_type": "execute_result"
    }
   ],
   "source": [
    "title = f\"{swimmer} (Under {age} ) {distance} {stroke}\"\n",
    "title\n",
    "\n",
    "# html = f(\"<!DOCTYPE html> <html> <head> <title>\" + title +\" </title> </head> <body> <h3>\" + title +\"</h3>\")"
   ]
  },
  {
   "cell_type": "code",
   "execution_count": 3,
   "metadata": {},
   "outputs": [
    {
     "name": "stdout",
     "output_type": "stream",
     "text": [
      "<!DOCTYPE html> \n",
      "<html>\n",
      "    <head>\n",
      "        <title> Darius (Under 13 ) 100m Fly </title> \n",
      "    </head>\n",
      "    <body> \n",
      "        <h3>  Darius (Under 13 ) 100m Fly </h3>\n"
     ]
    },
    {
     "data": {
      "text/plain": [
       "'<!DOCTYPE html> \\n<html>\\n    <head>\\n        <title> Darius (Under 13 ) 100m Fly </title> \\n    </head>\\n    <body> \\n        <h3>  Darius (Under 13 ) 100m Fly </h3>'"
      ]
     },
     "execution_count": 3,
     "metadata": {},
     "output_type": "execute_result"
    }
   ],
   "source": [
    "html = f\"\"\"<!DOCTYPE html> \n",
    "<html>\n",
    "    <head>\n",
    "        <title> {title} </title> \n",
    "    </head>\n",
    "    <body> \n",
    "        <h3>  {title} </h3>\"\"\"\n",
    "print(html)\n",
    "html"
   ]
  },
  {
   "cell_type": "code",
   "execution_count": 4,
   "metadata": {},
   "outputs": [
    {
     "name": "stdout",
     "output_type": "stream",
     "text": [
      "('Darius', '13', '100m', 'Fly', ['1:27.95', '1:21.07', '1:30.96', '1:23.22', '1:27.95', '1:28.30'], '1:26.58', [8795, 8107, 9096, 8322, 8795, 8830])\n"
     ]
    },
    {
     "data": {
      "text/plain": [
       "[['1:27.95', '1:21.07', '1:30.96', '1:23.22', '1:27.95', '1:28.30'],\n",
       " '1:26.58',\n",
       " [8795, 8107, 9096, 8322, 8795, 8830]]"
      ]
     },
     "execution_count": 4,
     "metadata": {},
     "output_type": "execute_result"
    }
   ],
   "source": [
    "type(_)\n",
    "print(swimclub.read_swim_data(fn))\n",
    "_"
   ]
  },
  {
   "cell_type": "code",
   "execution_count": 5,
   "metadata": {},
   "outputs": [
    {
     "data": {
      "text/plain": [
       "9096"
      ]
     },
     "execution_count": 5,
     "metadata": {},
     "output_type": "execute_result"
    }
   ],
   "source": [
    "# daten für das svg-bild\n",
    "*_,times,avarage,converts = swimclub.read_swim_data(fn) \n",
    "\n",
    "from_max = max(converts)\n",
    "from_max"
   ]
  },
  {
   "cell_type": "code",
   "execution_count": 6,
   "metadata": {},
   "outputs": [
    {
     "name": "stdout",
     "output_type": "stream",
     "text": [
      "\n",
      "        \n",
      "        <svg height=\"30\" width=\"400\">\n",
      "            <rect height=\"30\" width=\"339.76\" style=\"fill:rgb(0,0,255);\"  > \n",
      "        </svg>1:28.30 <br />\n",
      "        \n",
      "        \n",
      "        <svg height=\"30\" width=\"400\">\n",
      "            <rect height=\"30\" width=\"338.42\" style=\"fill:rgb(0,0,255);\"  > \n",
      "        </svg>1:27.95 <br />\n",
      "        \n",
      "        \n",
      "        <svg height=\"30\" width=\"400\">\n",
      "            <rect height=\"30\" width=\"320.22\" style=\"fill:rgb(0,0,255);\"  > \n",
      "        </svg>1:23.22 <br />\n",
      "        \n",
      "        \n",
      "        <svg height=\"30\" width=\"400\">\n",
      "            <rect height=\"30\" width=\"350.0\" style=\"fill:rgb(0,0,255);\"  > \n",
      "        </svg>1:30.96 <br />\n",
      "        \n",
      "        \n",
      "        <svg height=\"30\" width=\"400\">\n",
      "            <rect height=\"30\" width=\"311.94\" style=\"fill:rgb(0,0,255);\"  > \n",
      "        </svg>1:21.07 <br />\n",
      "        \n",
      "        \n",
      "        <svg height=\"30\" width=\"400\">\n",
      "            <rect height=\"30\" width=\"338.42\" style=\"fill:rgb(0,0,255);\"  > \n",
      "        </svg>1:27.95 <br />\n",
      "        \n"
     ]
    }
   ],
   "source": [
    "import hfpy_utils\n",
    "\n",
    "svgs = \"\"\n",
    "times.reverse()\n",
    "converts.reverse()\n",
    "\n",
    "#bar_width = hfpy_utils.convert2range(n,0,from_max,0,350) \n",
    "\n",
    "for n, t in enumerate(times):\n",
    "    bar_width = hfpy_utils.convert2range(converts[n],0,from_max,0,350)\n",
    "    svgs = svgs + f\"\"\"\n",
    "        \n",
    "        <svg height=\"30\" width=\"400\">\n",
    "            <rect height=\"30\" width=\"{bar_width}\" style=\"fill:rgb(0,0,255);\"  > \n",
    "        </svg>{t} <br />\n",
    "        \"\"\"\n",
    "print(svgs)"
   ]
  },
  {
   "cell_type": "code",
   "execution_count": 7,
   "metadata": {},
   "outputs": [],
   "source": [
    "footer = f\"\"\"\n",
    "                <p> Average time: {avarage}</p>\n",
    "        </body>\n",
    "</html>\n",
    "\"\"\""
   ]
  },
  {
   "cell_type": "code",
   "execution_count": 8,
   "metadata": {},
   "outputs": [
    {
     "name": "stdout",
     "output_type": "stream",
     "text": [
      "<!DOCTYPE html> \n",
      "<html>\n",
      "    <head>\n",
      "        <title> Darius (Under 13 ) 100m Fly </title> \n",
      "    </head>\n",
      "    <body> \n",
      "        <h3>  Darius (Under 13 ) 100m Fly </h3>\n",
      "        \n",
      "        <svg height=\"30\" width=\"400\">\n",
      "            <rect height=\"30\" width=\"339.76\" style=\"fill:rgb(0,0,255);\"  > \n",
      "        </svg>1:28.30 <br />\n",
      "        \n",
      "        \n",
      "        <svg height=\"30\" width=\"400\">\n",
      "            <rect height=\"30\" width=\"338.42\" style=\"fill:rgb(0,0,255);\"  > \n",
      "        </svg>1:27.95 <br />\n",
      "        \n",
      "        \n",
      "        <svg height=\"30\" width=\"400\">\n",
      "            <rect height=\"30\" width=\"320.22\" style=\"fill:rgb(0,0,255);\"  > \n",
      "        </svg>1:23.22 <br />\n",
      "        \n",
      "        \n",
      "        <svg height=\"30\" width=\"400\">\n",
      "            <rect height=\"30\" width=\"350.0\" style=\"fill:rgb(0,0,255);\"  > \n",
      "        </svg>1:30.96 <br />\n",
      "        \n",
      "        \n",
      "        <svg height=\"30\" width=\"400\">\n",
      "            <rect height=\"30\" width=\"311.94\" style=\"fill:rgb(0,0,255);\"  > \n",
      "        </svg>1:21.07 <br />\n",
      "        \n",
      "        \n",
      "        <svg height=\"30\" width=\"400\">\n",
      "            <rect height=\"30\" width=\"338.42\" style=\"fill:rgb(0,0,255);\"  > \n",
      "        </svg>1:27.95 <br />\n",
      "        \n",
      "                <p> Average time: 1:26.58</p>\n",
      "        </body>\n",
      "</html>\n",
      "\n"
     ]
    }
   ],
   "source": [
    "page = f\"{html}{svgs}{footer}\"\n",
    "print(page)"
   ]
  },
  {
   "cell_type": "code",
   "execution_count": 9,
   "metadata": {},
   "outputs": [
    {
     "name": "stdout",
     "output_type": "stream",
     "text": [
      "['1:27.95,1:21.07,1:30.96,1:23.22,1:27.95,1:28.30\\n']\n"
     ]
    }
   ],
   "source": [
    "# dateien schreiben\n",
    "\n",
    "with open(swimclub.FOLDER + fn) as df:\n",
    "    data = df.readlines()\n",
    "\n",
    "print(data)"
   ]
  },
  {
   "cell_type": "code",
   "execution_count": 10,
   "metadata": {},
   "outputs": [],
   "source": [
    "# dateien schreiben\n",
    "with open(\"my_test.txt\", \"w\") as tf: # mit parameter w wird neu geschrieben mit a angehängt\n",
    "    print(\"this is a test\", file=tf)"
   ]
  },
  {
   "cell_type": "code",
   "execution_count": 11,
   "metadata": {},
   "outputs": [
    {
     "name": "stdout",
     "output_type": "stream",
     "text": [
      "['__add__', '__class__', '__contains__', '__delattr__', '__dir__', '__doc__', '__eq__', '__format__', '__ge__', '__getattribute__', '__getitem__', '__getnewargs__', '__getstate__', '__gt__', '__hash__', '__init__', '__init_subclass__', '__iter__', '__le__', '__len__', '__lt__', '__mod__', '__mul__', '__ne__', '__new__', '__reduce__', '__reduce_ex__', '__repr__', '__rmod__', '__rmul__', '__setattr__', '__sizeof__', '__str__', '__subclasshook__', 'capitalize', 'casefold', 'center', 'count', 'encode', 'endswith', 'expandtabs', 'find', 'format', 'format_map', 'index', 'isalnum', 'isalpha', 'isascii', 'isdecimal', 'isdigit', 'isidentifier', 'islower', 'isnumeric', 'isprintable', 'isspace', 'istitle', 'isupper', 'join', 'ljust', 'lower', 'lstrip', 'maketrans', 'partition', 'removeprefix', 'removesuffix', 'replace', 'rfind', 'rindex', 'rjust', 'rpartition', 'rsplit', 'rstrip', 'split', 'splitlines', 'startswith', 'strip', 'swapcase', 'title', 'translate', 'upper', 'zfill']\n"
     ]
    },
    {
     "data": {
      "text/plain": [
       "'charts/Darius-13-100m-Fly.html'"
      ]
     },
     "execution_count": 11,
     "metadata": {},
     "output_type": "execute_result"
    }
   ],
   "source": [
    "# html datei in ordner charts schreiben\n",
    "fn\n",
    "print(dir(fn))\n",
    "save_to =f\"charts/{fn.removesuffix(\".txt\")}.html\"\n",
    "save_to"
   ]
  },
  {
   "cell_type": "code",
   "execution_count": 12,
   "metadata": {},
   "outputs": [],
   "source": [
    "# generierte seite in html-datei schreiben\n",
    "with open(save_to, \"w\") as tf: # mit parameter w wird neu geschrieben mit a angehängt\n",
    "    print(page, file=tf)"
   ]
  },
  {
   "cell_type": "code",
   "execution_count": 13,
   "metadata": {},
   "outputs": [],
   "source": [
    "chart = swimclub.produce_bar_chart(fn)"
   ]
  },
  {
   "cell_type": "code",
   "execution_count": 14,
   "metadata": {},
   "outputs": [
    {
     "data": {
      "text/plain": [
       "True"
      ]
     },
     "execution_count": 14,
     "metadata": {},
     "output_type": "execute_result"
    }
   ],
   "source": [
    "webbrowser.open(\"file://\" + os.path.realpath(chart))"
   ]
  },
  {
   "cell_type": "code",
   "execution_count": 15,
   "metadata": {},
   "outputs": [
    {
     "data": {
      "text/plain": [
       "True"
      ]
     },
     "execution_count": 15,
     "metadata": {},
     "output_type": "execute_result"
    }
   ],
   "source": [
    "chart = swimclub.produce_bar_chart(\"Dave-17-100m-Free.txt\")\n",
    "webbrowser.open(\"file://\" + os.path.realpath(chart))"
   ]
  },
  {
   "cell_type": "code",
   "execution_count": 17,
   "metadata": {},
   "outputs": [
    {
     "data": {
      "text/plain": [
       "True"
      ]
     },
     "execution_count": 17,
     "metadata": {},
     "output_type": "execute_result"
    }
   ],
   "source": [
    "chart = swimclub.produce_bar_chart(\"Lizzie-14-100m-Back.txt\")\n",
    "webbrowser.open(\"file://\" + os.path.realpath(chart))"
   ]
  }
 ],
 "metadata": {
  "kernelspec": {
   "display_name": ".venv",
   "language": "python",
   "name": "python3"
  },
  "language_info": {
   "codemirror_mode": {
    "name": "ipython",
    "version": 3
   },
   "file_extension": ".py",
   "mimetype": "text/x-python",
   "name": "python",
   "nbconvert_exporter": "python",
   "pygments_lexer": "ipython3",
   "version": "3.12.3"
  }
 },
 "nbformat": 4,
 "nbformat_minor": 2
}
