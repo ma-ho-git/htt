{
 "cells": [
  {
   "cell_type": "code",
   "execution_count": 5,
   "metadata": {},
   "outputs": [],
   "source": [
    "import swimclub\n",
    "\n",
    "fn = \"Darius-13-100m-Fly.txt\"\n",
    "\n",
    "(swimmer, age, distance, stroke, *_) = swimclub.read_swim_data(fn)\n",
    "\n",
    "#title = swimmer + \" (Under \" + age +\") \" + distance + \" \" + stroke\n",
    "\n",
    "#title"
   ]
  },
  {
   "cell_type": "code",
   "execution_count": null,
   "metadata": {},
   "outputs": [],
   "source": []
  },
  {
   "cell_type": "markdown",
   "metadata": {},
   "source": [
    "## mit f-Strings"
   ]
  },
  {
   "cell_type": "code",
   "execution_count": 6,
   "metadata": {},
   "outputs": [
    {
     "data": {
      "text/plain": [
       "'Darius (Under 13 ) 100m Fly'"
      ]
     },
     "execution_count": 6,
     "metadata": {},
     "output_type": "execute_result"
    }
   ],
   "source": [
    "title = f\"{swimmer} (Under {age} ) {distance} {stroke}\"\n",
    "title\n",
    "\n",
    "# html = f(\"<!DOCTYPE html> <html> <head> <title>\" + title +\" </title> </head> <body> <h3>\" + title +\"</h3>\")"
   ]
  },
  {
   "cell_type": "code",
   "execution_count": 7,
   "metadata": {},
   "outputs": [
    {
     "name": "stdout",
     "output_type": "stream",
     "text": [
      "<!DOCTYPE html> \n",
      "<html>\n",
      "    <head>\n",
      "        <title> Darius (Under 13 ) 100m Fly </title> \n",
      "    </head>\n",
      "    <body> \n",
      "        <h3>  Darius (Under 13 ) 100m Fly </h3>\n"
     ]
    },
    {
     "data": {
      "text/plain": [
       "'<!DOCTYPE html> \\n<html>\\n    <head>\\n        <title> Darius (Under 13 ) 100m Fly </title> \\n    </head>\\n    <body> \\n        <h3>  Darius (Under 13 ) 100m Fly </h3>'"
      ]
     },
     "execution_count": 7,
     "metadata": {},
     "output_type": "execute_result"
    }
   ],
   "source": [
    "html = f\"\"\"<!DOCTYPE html> \n",
    "<html>\n",
    "    <head>\n",
    "        <title> {title} </title> \n",
    "    </head>\n",
    "    <body> \n",
    "        <h3>  {title} </h3>\"\"\"\n",
    "print(html)\n",
    "html"
   ]
  },
  {
   "cell_type": "code",
   "execution_count": 9,
   "metadata": {},
   "outputs": [
    {
     "name": "stdout",
     "output_type": "stream",
     "text": [
      "('Darius', '13', '100m', 'Fly', ['1:27.95', '1:21.07', '1:30.96', '1:23.22', '1:27.95', '1:28.30'], '1:26.58', [8795, 8107, 9096, 8322, 8795, 8830])\n"
     ]
    },
    {
     "data": {
      "text/plain": [
       "[['1:27.95', '1:21.07', '1:30.96', '1:23.22', '1:27.95', '1:28.30'],\n",
       " '1:26.58',\n",
       " [8795, 8107, 9096, 8322, 8795, 8830]]"
      ]
     },
     "execution_count": 9,
     "metadata": {},
     "output_type": "execute_result"
    }
   ],
   "source": [
    "type(_)\n",
    "print(swimclub.read_swim_data(fn))\n",
    "_"
   ]
  },
  {
   "cell_type": "code",
   "execution_count": 13,
   "metadata": {},
   "outputs": [
    {
     "data": {
      "text/plain": [
       "9096"
      ]
     },
     "execution_count": 13,
     "metadata": {},
     "output_type": "execute_result"
    }
   ],
   "source": [
    "# daten für das svg-bild\n",
    "*_,times,avarage,converts = swimclub.read_swim_data(fn) \n",
    "\n",
    "from_max = max(converts)\n",
    "from_max"
   ]
  },
  {
   "cell_type": "code",
   "execution_count": null,
   "metadata": {},
   "outputs": [],
   "source": [
    "import hfpy_utils\n",
    "\n",
    "svgs = \"\"\n",
    "\n",
    "n = converts[0]\n",
    "bar_width = hfpy_utils.convert2range(n,0,from_max,0,400) "
   ]
  }
 ],
 "metadata": {
  "kernelspec": {
   "display_name": ".venv",
   "language": "python",
   "name": "python3"
  },
  "language_info": {
   "codemirror_mode": {
    "name": "ipython",
    "version": 3
   },
   "file_extension": ".py",
   "mimetype": "text/x-python",
   "name": "python",
   "nbconvert_exporter": "python",
   "pygments_lexer": "ipython3",
   "version": "3.12.3"
  }
 },
 "nbformat": 4,
 "nbformat_minor": 2
}
