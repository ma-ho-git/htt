{
 "cells": [
  {
   "cell_type": "markdown",
   "metadata": {},
   "source": [
    "# Test erstellte Funktionen"
   ]
  },
  {
   "cell_type": "code",
   "execution_count": 6,
   "metadata": {},
   "outputs": [
    {
     "data": {
      "text/plain": [
       "('Darius',\n",
       " '13',\n",
       " '100m',\n",
       " 'Fly',\n",
       " ['1:27.95', '1:21.07', '1:30.96', '1:23.22', '1:27.95', '1:28.30'],\n",
       " 8657.5)"
      ]
     },
     "execution_count": 6,
     "metadata": {},
     "output_type": "execute_result"
    }
   ],
   "source": [
    "import swimclub\n",
    "\n",
    "swimclub.read_swim_data(\"Darius-13-100m-Fly.txt\")"
   ]
  },
  {
   "cell_type": "code",
   "execution_count": 7,
   "metadata": {},
   "outputs": [
    {
     "name": "stdout",
     "output_type": "stream",
     "text": [
      "['__add__', '__class__', '__class_getitem__', '__contains__', '__delattr__', '__dir__', '__doc__', '__eq__', '__format__', '__ge__', '__getattribute__', '__getitem__', '__getnewargs__', '__getstate__', '__gt__', '__hash__', '__init__', '__init_subclass__', '__iter__', '__le__', '__len__', '__lt__', '__mul__', '__ne__', '__new__', '__reduce__', '__reduce_ex__', '__repr__', '__rmul__', '__setattr__', '__sizeof__', '__str__', '__subclasshook__', 'count', 'index']\n"
     ]
    },
    {
     "data": {
      "text/plain": [
       "tuple"
      ]
     },
     "execution_count": 7,
     "metadata": {},
     "output_type": "execute_result"
    }
   ],
   "source": [
    "data= swimclub.read_swim_data(\"Darius-13-100m-Fly.txt\")\n",
    "swimmer, age, ditance, stroke, times, average = data\n",
    "swimmer\n",
    "#times\n",
    "print(dir(data))\n",
    "type(data)"
   ]
  },
  {
   "cell_type": "code",
   "execution_count": 8,
   "metadata": {},
   "outputs": [
    {
     "name": "stdout",
     "output_type": "stream",
     "text": [
      "['__add__', '__class__', '__class_getitem__', '__contains__', '__delattr__', '__delitem__', '__dir__', '__doc__', '__eq__', '__format__', '__ge__', '__getattribute__', '__getitem__', '__getstate__', '__gt__', '__hash__', '__iadd__', '__imul__', '__init__', '__init_subclass__', '__iter__', '__le__', '__len__', '__lt__', '__mul__', '__ne__', '__new__', '__reduce__', '__reduce_ex__', '__repr__', '__reversed__', '__rmul__', '__setattr__', '__setitem__', '__sizeof__', '__str__', '__subclasshook__', 'append', 'clear', 'copy', 'count', 'extend', 'index', 'insert', 'pop', 'remove', 'reverse', 'sort']\n",
      "['.DS_Store', 'Abi-10-100m-Back.txt', 'Abi-10-100m-Breast.txt', 'Abi-10-50m-Back.txt', 'Abi-10-50m-Breast.txt', 'Abi-10-50m-Free.txt', 'Ali-12-100m-Back.txt', 'Ali-12-100m-Free.txt', 'Alison-14-100m-Breast.txt', 'Alison-14-100m-Free.txt', 'Aurora-13-50m-Free.txt', 'Bill-18-100m-Back.txt', 'Bill-18-200m-Back.txt', 'Blake-15-100m-Back.txt', 'Blake-15-100m-Fly.txt', 'Blake-15-100m-Free.txt', 'Calvin-9-50m-Back.txt', 'Calvin-9-50m-Fly.txt', 'Calvin-9-50m-Free.txt', 'Carl-15-100m-Back.txt', 'Chris-17-100m-Back.txt', 'Chris-17-100m-Breast.txt', 'Darius-13-100m-Back.txt', 'Darius-13-100m-Breast.txt', 'Darius-13-100m-Fly.txt', 'Darius-13-200m-IM.txt', 'Dave-17-100m-Free.txt', 'Dave-17-200m-Back.txt', 'Elba-14-100m-Free.txt', 'Emma-13-100m-Breast.txt', 'Emma-13-100m-Free.txt', 'Erika-15-100m-Breast.txt', 'Erika-15-100m-Free.txt', 'Erika-15-200m-Breast.txt', 'Hannah-13-100m-Back.txt', 'Hannah-13-100m-Free.txt', 'Katie-9-100m-Back.txt', 'Katie-9-100m-Breast.txt', 'Katie-9-100m-Free.txt', 'Katie-9-50m-Back.txt', 'Katie-9-50m-Breast.txt', 'Katie-9-50m-Fly.txt', 'Katie-9-50m-Free.txt', 'Lizzie-14-100m-Back.txt', 'Lizzie-14-100m-Free.txt', 'Maria-9-50m-Free.txt', 'Mike-15-100m-Back.txt', 'Mike-15-100m-Fly.txt', 'Mike-15-100m-Free.txt', 'Mike-15-200m-Free.txt', 'Mike-15-200m-IM.txt', 'Owen-15-100m-Free.txt', 'Ruth-13-100m-Back.txt', 'Ruth-13-100m-Free.txt', 'Ruth-13-200m-Back.txt', 'Ruth-13-200m-Free.txt', 'Ruth-13-400m-Free.txt', 'Tasmin-15-100m-Back.txt', 'Tasmin-15-100m-Breast.txt', 'Tasmin-15-100m-Free.txt', 'Tasmin-15-200m-Breast.txt']\n"
     ]
    }
   ],
   "source": [
    "import os\n",
    "\n",
    "swim_files = os.listdir(swimclub.FOLDER)\n",
    "len(swim_files)\n",
    "print(dir(swim_files))\n",
    "print(sorted(swim_files))"
   ]
  },
  {
   "cell_type": "code",
   "execution_count": 9,
   "metadata": {},
   "outputs": [
    {
     "data": {
      "text/plain": [
       "60"
      ]
     },
     "execution_count": 9,
     "metadata": {},
     "output_type": "execute_result"
    }
   ],
   "source": [
    "if len(swim_files)>60: \n",
    "    swim_files.remove(\".DS_Store\")\n",
    "len(swim_files)\n"
   ]
  },
  {
   "cell_type": "code",
   "execution_count": 12,
   "metadata": {},
   "outputs": [
    {
     "name": "stdout",
     "output_type": "stream",
     "text": [
      "1 Verarbeite:  Alison-14-100m-Free.txt\n",
      "2 Verarbeite:  Ruth-13-100m-Back.txt\n",
      "3 Verarbeite:  Tasmin-15-100m-Back.txt\n",
      "4 Verarbeite:  Blake-15-100m-Free.txt\n",
      "5 Verarbeite:  Maria-9-50m-Free.txt\n",
      "6 Verarbeite:  Katie-9-50m-Free.txt\n",
      "7 Verarbeite:  Darius-13-100m-Back.txt\n",
      "8 Verarbeite:  Erika-15-200m-Breast.txt\n",
      "9 Verarbeite:  Katie-9-100m-Back.txt\n",
      "10 Verarbeite:  Lizzie-14-100m-Free.txt\n",
      "11 Verarbeite:  Mike-15-100m-Back.txt\n",
      "12 Verarbeite:  Lizzie-14-100m-Back.txt\n",
      "13 Verarbeite:  Emma-13-100m-Free.txt\n",
      "14 Verarbeite:  Carl-15-100m-Back.txt\n",
      "15 Verarbeite:  Ali-12-100m-Back.txt\n",
      "16 Verarbeite:  Tasmin-15-100m-Free.txt\n",
      "17 Verarbeite:  Katie-9-50m-Fly.txt\n",
      "18 Verarbeite:  Calvin-9-50m-Back.txt\n",
      "19 Verarbeite:  Tasmin-15-200m-Breast.txt\n",
      "20 Verarbeite:  Blake-15-100m-Back.txt\n",
      "21 Verarbeite:  Ruth-13-200m-Back.txt\n",
      "22 Verarbeite:  Tasmin-15-100m-Breast.txt\n",
      "23 Verarbeite:  Dave-17-200m-Back.txt\n",
      "24 Verarbeite:  Chris-17-100m-Back.txt\n",
      "25 Verarbeite:  Hannah-13-100m-Free.txt\n",
      "26 Verarbeite:  Calvin-9-50m-Fly.txt\n",
      "27 Verarbeite:  Erika-15-100m-Breast.txt\n",
      "28 Verarbeite:  Ruth-13-100m-Free.txt\n",
      "29 Verarbeite:  Hannah-13-100m-Back.txt\n",
      "30 Verarbeite:  Abi-10-100m-Back.txt\n",
      "31 Verarbeite:  Darius-13-200m-IM.txt\n",
      "32 Verarbeite:  Katie-9-100m-Breast.txt\n",
      "33 Verarbeite:  Owen-15-100m-Free.txt\n",
      "34 Verarbeite:  Bill-18-100m-Back.txt\n",
      "35 Verarbeite:  Elba-14-100m-Free.txt\n",
      "36 Verarbeite:  Aurora-13-50m-Free.txt\n",
      "37 Verarbeite:  Katie-9-50m-Back.txt\n",
      "38 Verarbeite:  Abi-10-50m-Back.txt\n",
      "39 Verarbeite:  Erika-15-100m-Free.txt\n",
      "40 Verarbeite:  Mike-15-200m-IM.txt\n",
      "41 Verarbeite:  Mike-15-200m-Free.txt\n",
      "42 Verarbeite:  Abi-10-50m-Free.txt\n",
      "43 Verarbeite:  Darius-13-100m-Fly.txt\n",
      "44 Verarbeite:  Calvin-9-50m-Free.txt\n",
      "45 Verarbeite:  Darius-13-100m-Breast.txt\n",
      "46 Verarbeite:  Mike-15-100m-Free.txt\n",
      "47 Verarbeite:  Abi-10-100m-Breast.txt\n",
      "48 Verarbeite:  Dave-17-100m-Free.txt\n",
      "49 Verarbeite:  Katie-9-50m-Breast.txt\n",
      "50 Verarbeite:  Emma-13-100m-Breast.txt\n",
      "51 Verarbeite:  Alison-14-100m-Breast.txt\n",
      "52 Verarbeite:  Bill-18-200m-Back.txt\n",
      "53 Verarbeite:  Abi-10-50m-Breast.txt\n",
      "54 Verarbeite:  Ruth-13-400m-Free.txt\n",
      "55 Verarbeite:  Chris-17-100m-Breast.txt\n",
      "56 Verarbeite:  Blake-15-100m-Fly.txt\n",
      "57 Verarbeite:  Ali-12-100m-Free.txt\n",
      "58 Verarbeite:  Katie-9-100m-Free.txt\n",
      "59 Verarbeite:  Mike-15-100m-Fly.txt\n",
      "60 Verarbeite:  Ruth-13-200m-Free.txt\n"
     ]
    }
   ],
   "source": [
    "for n,s in enumerate(swim_files,1):\n",
    "    print(n, \"Verarbeite: \", s)\n",
    "    swimclub.read_swim_data(s)"
   ]
  }
 ],
 "metadata": {
  "kernelspec": {
   "display_name": "Python 3",
   "language": "python",
   "name": "python3"
  },
  "language_info": {
   "codemirror_mode": {
    "name": "ipython",
    "version": 3
   },
   "file_extension": ".py",
   "mimetype": "text/x-python",
   "name": "python",
   "nbconvert_exporter": "python",
   "pygments_lexer": "ipython3",
   "version": "3.12.3"
  }
 },
 "nbformat": 4,
 "nbformat_minor": 2
}
