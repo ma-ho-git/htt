{
 "cells": [
  {
   "cell_type": "code",
   "execution_count": 1,
   "metadata": {},
   "outputs": [
    {
     "name": "stdout",
     "output_type": "stream",
     "text": [
      "60\n"
     ]
    }
   ],
   "source": [
    "import os\n",
    "import swimclub\n",
    "\n",
    "# liste der dateien erstellen\n",
    "swim_files = os.listdir(swimclub.FOLDER)\n",
    "swim_files.remove(\".DS_Store\")\n",
    "\n",
    "print(len(swim_files))"
   ]
  },
  {
   "cell_type": "code",
   "execution_count": 6,
   "metadata": {},
   "outputs": [
    {
     "data": {
      "text/plain": [
       "['Alison',\n",
       " 'Ruth',\n",
       " 'Tasmin',\n",
       " 'Blake',\n",
       " 'Maria',\n",
       " 'Katie',\n",
       " 'Darius',\n",
       " 'Erika',\n",
       " 'Katie',\n",
       " 'Lizzie',\n",
       " 'Mike',\n",
       " 'Lizzie',\n",
       " 'Emma',\n",
       " 'Carl',\n",
       " 'Ali',\n",
       " 'Tasmin',\n",
       " 'Katie',\n",
       " 'Calvin',\n",
       " 'Tasmin',\n",
       " 'Blake',\n",
       " 'Ruth',\n",
       " 'Tasmin',\n",
       " 'Dave',\n",
       " 'Chris',\n",
       " 'Hannah',\n",
       " 'Calvin',\n",
       " 'Erika',\n",
       " 'Ruth',\n",
       " 'Hannah',\n",
       " 'Abi',\n",
       " 'Darius',\n",
       " 'Katie',\n",
       " 'Owen',\n",
       " 'Bill',\n",
       " 'Elba',\n",
       " 'Aurora',\n",
       " 'Katie',\n",
       " 'Abi',\n",
       " 'Erika',\n",
       " 'Mike',\n",
       " 'Mike',\n",
       " 'Abi',\n",
       " 'Darius',\n",
       " 'Calvin',\n",
       " 'Darius',\n",
       " 'Mike',\n",
       " 'Abi',\n",
       " 'Dave',\n",
       " 'Katie',\n",
       " 'Emma',\n",
       " 'Alison',\n",
       " 'Bill',\n",
       " 'Abi',\n",
       " 'Ruth',\n",
       " 'Chris',\n",
       " 'Blake',\n",
       " 'Ali',\n",
       " 'Katie',\n",
       " 'Mike',\n",
       " 'Ruth']"
      ]
     },
     "execution_count": 6,
     "metadata": {},
     "output_type": "execute_result"
    }
   ],
   "source": [
    "# namen auslesen und in liste ablegen\n",
    "swimmers = []\n",
    "for fn in swim_files:\n",
    "    swimmers.append(fn.split(\"-\")[0])   \n",
    "swimmers"
   ]
  },
  {
   "cell_type": "code",
   "execution_count": 9,
   "metadata": {},
   "outputs": [
    {
     "name": "stdout",
     "output_type": "stream",
     "text": [
      "['Abi', 'Ali', 'Alison', 'Aurora', 'Bill', 'Blake', 'Calvin', 'Carl', 'Chris', 'Darius', 'Dave', 'Elba', 'Emma', 'Erika', 'Hannah', 'Katie', 'Lizzie', 'Maria', 'Mike', 'Owen', 'Ruth', 'Tasmin']\n"
     ]
    },
    {
     "data": {
      "text/plain": [
       "22"
      ]
     },
     "execution_count": 9,
     "metadata": {},
     "output_type": "execute_result"
    }
   ],
   "source": [
    "names = list(set(swimmers))\n",
    "print(sorted(names))\n",
    "len(names)"
   ]
  },
  {
   "cell_type": "code",
   "execution_count": 12,
   "metadata": {},
   "outputs": [
    {
     "name": "stdout",
     "output_type": "stream",
     "text": [
      "[('Alison', 'Alison-14-100m-Free.txt'), ('Ruth', 'Ruth-13-100m-Back.txt'), ('Tasmin', 'Tasmin-15-100m-Back.txt'), ('Blake', 'Blake-15-100m-Free.txt'), ('Maria', 'Maria-9-50m-Free.txt'), ('Katie', 'Katie-9-50m-Free.txt'), ('Darius', 'Darius-13-100m-Back.txt'), ('Erika', 'Erika-15-200m-Breast.txt'), ('Katie', 'Katie-9-100m-Back.txt'), ('Lizzie', 'Lizzie-14-100m-Free.txt'), ('Mike', 'Mike-15-100m-Back.txt'), ('Lizzie', 'Lizzie-14-100m-Back.txt'), ('Emma', 'Emma-13-100m-Free.txt'), ('Carl', 'Carl-15-100m-Back.txt'), ('Ali', 'Ali-12-100m-Back.txt'), ('Tasmin', 'Tasmin-15-100m-Free.txt'), ('Katie', 'Katie-9-50m-Fly.txt'), ('Calvin', 'Calvin-9-50m-Back.txt'), ('Tasmin', 'Tasmin-15-200m-Breast.txt'), ('Blake', 'Blake-15-100m-Back.txt'), ('Ruth', 'Ruth-13-200m-Back.txt'), ('Tasmin', 'Tasmin-15-100m-Breast.txt'), ('Dave', 'Dave-17-200m-Back.txt'), ('Chris', 'Chris-17-100m-Back.txt'), ('Hannah', 'Hannah-13-100m-Free.txt'), ('Calvin', 'Calvin-9-50m-Fly.txt'), ('Erika', 'Erika-15-100m-Breast.txt'), ('Ruth', 'Ruth-13-100m-Free.txt'), ('Hannah', 'Hannah-13-100m-Back.txt'), ('Abi', 'Abi-10-100m-Back.txt'), ('Darius', 'Darius-13-200m-IM.txt'), ('Katie', 'Katie-9-100m-Breast.txt'), ('Owen', 'Owen-15-100m-Free.txt'), ('Bill', 'Bill-18-100m-Back.txt'), ('Elba', 'Elba-14-100m-Free.txt'), ('Aurora', 'Aurora-13-50m-Free.txt'), ('Katie', 'Katie-9-50m-Back.txt'), ('Abi', 'Abi-10-50m-Back.txt'), ('Erika', 'Erika-15-100m-Free.txt'), ('Mike', 'Mike-15-200m-IM.txt'), ('Mike', 'Mike-15-200m-Free.txt'), ('Abi', 'Abi-10-50m-Free.txt'), ('Darius', 'Darius-13-100m-Fly.txt'), ('Calvin', 'Calvin-9-50m-Free.txt'), ('Darius', 'Darius-13-100m-Breast.txt'), ('Mike', 'Mike-15-100m-Free.txt'), ('Abi', 'Abi-10-100m-Breast.txt'), ('Dave', 'Dave-17-100m-Free.txt'), ('Katie', 'Katie-9-50m-Breast.txt'), ('Emma', 'Emma-13-100m-Breast.txt'), ('Alison', 'Alison-14-100m-Breast.txt'), ('Bill', 'Bill-18-200m-Back.txt'), ('Abi', 'Abi-10-50m-Breast.txt'), ('Ruth', 'Ruth-13-400m-Free.txt'), ('Chris', 'Chris-17-100m-Breast.txt'), ('Blake', 'Blake-15-100m-Fly.txt'), ('Ali', 'Ali-12-100m-Free.txt'), ('Katie', 'Katie-9-100m-Free.txt'), ('Mike', 'Mike-15-100m-Fly.txt'), ('Ruth', 'Ruth-13-200m-Free.txt')]\n",
      "['Abi', 'Ali', 'Alison', 'Aurora', 'Bill', 'Blake', 'Calvin', 'Carl', 'Chris', 'Darius', 'Dave', 'Elba', 'Emma', 'Erika', 'Hannah', 'Katie', 'Lizzie', 'Maria', 'Mike', 'Owen', 'Ruth', 'Tasmin']\n"
     ]
    }
   ],
   "source": [
    "# namen als uid, daten als eintrag\n",
    "swimmers = []\n",
    "names = []\n",
    "for fn in swim_files:\n",
    "    name = swimclub.read_swim_data(fn)[0]\n",
    "    swimmers.append((name,fn))\n",
    "    if name not in names:\n",
    "        names.append(name)\n",
    "print(swimmers)\n",
    "print(sorted(names))"
   ]
  },
  {
   "cell_type": "code",
   "execution_count": 23,
   "metadata": {},
   "outputs": [
    {
     "data": {
      "text/plain": [
       "['Dave-17-200m-Back.txt', 'Dave-17-100m-Free.txt']"
      ]
     },
     "execution_count": 23,
     "metadata": {},
     "output_type": "execute_result"
    }
   ],
   "source": [
    "# umstieg von liste auf hash / dictionary\n",
    "swimmers = {}\n",
    "for fn in swim_files:\n",
    "    name, *_ = swimclub.read_swim_data(fn)\n",
    "    if name not in swimmers:\n",
    "        swimmers[name]=[]\n",
    "    swimmers[name].append(fn)\n",
    "\n",
    "#print(sorted(swimmers))\n",
    "#len(swimmers)\n",
    "#print(dir(swimmers))\n",
    "#help(swimmers.pop)\n",
    "swimmers[\"Dave\"]"
   ]
  },
  {
   "cell_type": "code",
   "execution_count": 24,
   "metadata": {},
   "outputs": [
    {
     "data": {
      "text/plain": [
       "{'Alison': ['Alison-14-100m-Free.txt', 'Alison-14-100m-Breast.txt'],\n",
       " 'Ruth': ['Ruth-13-100m-Back.txt',\n",
       "  'Ruth-13-200m-Back.txt',\n",
       "  'Ruth-13-100m-Free.txt',\n",
       "  'Ruth-13-400m-Free.txt',\n",
       "  'Ruth-13-200m-Free.txt'],\n",
       " 'Tasmin': ['Tasmin-15-100m-Back.txt',\n",
       "  'Tasmin-15-100m-Free.txt',\n",
       "  'Tasmin-15-200m-Breast.txt',\n",
       "  'Tasmin-15-100m-Breast.txt'],\n",
       " 'Blake': ['Blake-15-100m-Free.txt',\n",
       "  'Blake-15-100m-Back.txt',\n",
       "  'Blake-15-100m-Fly.txt'],\n",
       " 'Maria': ['Maria-9-50m-Free.txt'],\n",
       " 'Katie': ['Katie-9-50m-Free.txt',\n",
       "  'Katie-9-100m-Back.txt',\n",
       "  'Katie-9-50m-Fly.txt',\n",
       "  'Katie-9-100m-Breast.txt',\n",
       "  'Katie-9-50m-Back.txt',\n",
       "  'Katie-9-50m-Breast.txt',\n",
       "  'Katie-9-100m-Free.txt'],\n",
       " 'Darius': ['Darius-13-100m-Back.txt',\n",
       "  'Darius-13-200m-IM.txt',\n",
       "  'Darius-13-100m-Fly.txt',\n",
       "  'Darius-13-100m-Breast.txt'],\n",
       " 'Erika': ['Erika-15-200m-Breast.txt',\n",
       "  'Erika-15-100m-Breast.txt',\n",
       "  'Erika-15-100m-Free.txt'],\n",
       " 'Lizzie': ['Lizzie-14-100m-Free.txt', 'Lizzie-14-100m-Back.txt'],\n",
       " 'Mike': ['Mike-15-100m-Back.txt',\n",
       "  'Mike-15-200m-IM.txt',\n",
       "  'Mike-15-200m-Free.txt',\n",
       "  'Mike-15-100m-Free.txt',\n",
       "  'Mike-15-100m-Fly.txt'],\n",
       " 'Emma': ['Emma-13-100m-Free.txt', 'Emma-13-100m-Breast.txt'],\n",
       " 'Carl': ['Carl-15-100m-Back.txt'],\n",
       " 'Ali': ['Ali-12-100m-Back.txt', 'Ali-12-100m-Free.txt'],\n",
       " 'Calvin': ['Calvin-9-50m-Back.txt',\n",
       "  'Calvin-9-50m-Fly.txt',\n",
       "  'Calvin-9-50m-Free.txt'],\n",
       " 'Dave': ['Dave-17-200m-Back.txt', 'Dave-17-100m-Free.txt'],\n",
       " 'Chris': ['Chris-17-100m-Back.txt', 'Chris-17-100m-Breast.txt'],\n",
       " 'Hannah': ['Hannah-13-100m-Free.txt', 'Hannah-13-100m-Back.txt'],\n",
       " 'Abi': ['Abi-10-100m-Back.txt',\n",
       "  'Abi-10-50m-Back.txt',\n",
       "  'Abi-10-50m-Free.txt',\n",
       "  'Abi-10-100m-Breast.txt',\n",
       "  'Abi-10-50m-Breast.txt'],\n",
       " 'Owen': ['Owen-15-100m-Free.txt'],\n",
       " 'Bill': ['Bill-18-100m-Back.txt', 'Bill-18-200m-Back.txt'],\n",
       " 'Elba': ['Elba-14-100m-Free.txt'],\n",
       " 'Aurora': ['Aurora-13-50m-Free.txt']}"
      ]
     },
     "execution_count": 24,
     "metadata": {},
     "output_type": "execute_result"
    }
   ],
   "source": [
    "swimmers"
   ]
  },
  {
   "cell_type": "code",
   "execution_count": 25,
   "metadata": {},
   "outputs": [
    {
     "name": "stdout",
     "output_type": "stream",
     "text": [
      "{'Abi': ['Abi-10-100m-Back.txt',\n",
      "         'Abi-10-50m-Back.txt',\n",
      "         'Abi-10-50m-Free.txt',\n",
      "         'Abi-10-100m-Breast.txt',\n",
      "         'Abi-10-50m-Breast.txt'],\n",
      " 'Ali': ['Ali-12-100m-Back.txt', 'Ali-12-100m-Free.txt'],\n",
      " 'Alison': ['Alison-14-100m-Free.txt', 'Alison-14-100m-Breast.txt'],\n",
      " 'Aurora': ['Aurora-13-50m-Free.txt'],\n",
      " 'Bill': ['Bill-18-100m-Back.txt', 'Bill-18-200m-Back.txt'],\n",
      " 'Blake': ['Blake-15-100m-Free.txt',\n",
      "           'Blake-15-100m-Back.txt',\n",
      "           'Blake-15-100m-Fly.txt'],\n",
      " 'Calvin': ['Calvin-9-50m-Back.txt',\n",
      "            'Calvin-9-50m-Fly.txt',\n",
      "            'Calvin-9-50m-Free.txt'],\n",
      " 'Carl': ['Carl-15-100m-Back.txt'],\n",
      " 'Chris': ['Chris-17-100m-Back.txt', 'Chris-17-100m-Breast.txt'],\n",
      " 'Darius': ['Darius-13-100m-Back.txt',\n",
      "            'Darius-13-200m-IM.txt',\n",
      "            'Darius-13-100m-Fly.txt',\n",
      "            'Darius-13-100m-Breast.txt'],\n",
      " 'Dave': ['Dave-17-200m-Back.txt', 'Dave-17-100m-Free.txt'],\n",
      " 'Elba': ['Elba-14-100m-Free.txt'],\n",
      " 'Emma': ['Emma-13-100m-Free.txt', 'Emma-13-100m-Breast.txt'],\n",
      " 'Erika': ['Erika-15-200m-Breast.txt',\n",
      "           'Erika-15-100m-Breast.txt',\n",
      "           'Erika-15-100m-Free.txt'],\n",
      " 'Hannah': ['Hannah-13-100m-Free.txt', 'Hannah-13-100m-Back.txt'],\n",
      " 'Katie': ['Katie-9-50m-Free.txt',\n",
      "           'Katie-9-100m-Back.txt',\n",
      "           'Katie-9-50m-Fly.txt',\n",
      "           'Katie-9-100m-Breast.txt',\n",
      "           'Katie-9-50m-Back.txt',\n",
      "           'Katie-9-50m-Breast.txt',\n",
      "           'Katie-9-100m-Free.txt'],\n",
      " 'Lizzie': ['Lizzie-14-100m-Free.txt', 'Lizzie-14-100m-Back.txt'],\n",
      " 'Maria': ['Maria-9-50m-Free.txt'],\n",
      " 'Mike': ['Mike-15-100m-Back.txt',\n",
      "          'Mike-15-200m-IM.txt',\n",
      "          'Mike-15-200m-Free.txt',\n",
      "          'Mike-15-100m-Free.txt',\n",
      "          'Mike-15-100m-Fly.txt'],\n",
      " 'Owen': ['Owen-15-100m-Free.txt'],\n",
      " 'Ruth': ['Ruth-13-100m-Back.txt',\n",
      "          'Ruth-13-200m-Back.txt',\n",
      "          'Ruth-13-100m-Free.txt',\n",
      "          'Ruth-13-400m-Free.txt',\n",
      "          'Ruth-13-200m-Free.txt'],\n",
      " 'Tasmin': ['Tasmin-15-100m-Back.txt',\n",
      "            'Tasmin-15-100m-Free.txt',\n",
      "            'Tasmin-15-200m-Breast.txt',\n",
      "            'Tasmin-15-100m-Breast.txt']}\n"
     ]
    }
   ],
   "source": [
    "# formatierte ausgabe\n",
    "import pprint\n",
    "pprint.pprint(swimmers)"
   ]
  },
  {
   "cell_type": "code",
   "execution_count": 26,
   "metadata": {},
   "outputs": [],
   "source": [
    "# ausgabe der Ergebnisse für eine Person\n",
    "import os\n",
    "import webbrowser\n",
    "import swimclub\n",
    "\n",
    "for fname in swimmers[\"Calvin\"]:\n",
    "    webbrowser.open(\"file://\"+ os.path.realpath(swimclub.produce_bar_chart(fname)))"
   ]
  }
 ],
 "metadata": {
  "kernelspec": {
   "display_name": ".venv",
   "language": "python",
   "name": "python3"
  },
  "language_info": {
   "codemirror_mode": {
    "name": "ipython",
    "version": 3
   },
   "file_extension": ".py",
   "mimetype": "text/x-python",
   "name": "python",
   "nbconvert_exporter": "python",
   "pygments_lexer": "ipython3",
   "version": "3.12.3"
  }
 },
 "nbformat": 4,
 "nbformat_minor": 2
}
