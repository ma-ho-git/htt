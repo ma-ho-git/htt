{
 "cells": [
  {
   "cell_type": "code",
   "execution_count": 1,
   "metadata": {},
   "outputs": [
    {
     "data": {
      "text/plain": [
       "('Abi', '10')"
      ]
     },
     "execution_count": 1,
     "metadata": {},
     "output_type": "execute_result"
    }
   ],
   "source": [
    "fn = 'Abi-10-100m-Back.txt'\n",
    "name, age, distance, stroke = fn.removesuffix('.txt').split('-')\n",
    "name, age"
   ]
  },
  {
   "cell_type": "code",
   "execution_count": 3,
   "metadata": {},
   "outputs": [
    {
     "data": {
      "text/plain": [
       "('100m', 'Back')"
      ]
     },
     "execution_count": 3,
     "metadata": {},
     "output_type": "execute_result"
    }
   ],
   "source": [
    "distance, stroke"
   ]
  },
  {
   "cell_type": "code",
   "execution_count": 4,
   "metadata": {},
   "outputs": [],
   "source": [
    "import os\n",
    "\n",
    "FOLDER = 'swimdata/'\n",
    "\n",
    "files = os.listdir(FOLDER)\n",
    "files.remove(\".DS_Store\")\n"
   ]
  },
  {
   "cell_type": "code",
   "execution_count": 5,
   "metadata": {},
   "outputs": [
    {
     "name": "stdout",
     "output_type": "stream",
     "text": [
      "Alison-14-100m-Free.txt\n"
     ]
    },
    {
     "data": {
      "text/plain": [
       "('Alison', '14')"
      ]
     },
     "execution_count": 5,
     "metadata": {},
     "output_type": "execute_result"
    }
   ],
   "source": [
    "first = files[0]\n",
    "print(first)\n",
    "name, age, _,_ = first.removesuffix('.txt').split('-')\n",
    "name, age"
   ]
  },
  {
   "cell_type": "code",
   "execution_count": 6,
   "metadata": {},
   "outputs": [],
   "source": [
    "import DBcm\n",
    "\n",
    "db_details = \"CoachDB.sqlite3\""
   ]
  },
  {
   "cell_type": "code",
   "execution_count": 7,
   "metadata": {},
   "outputs": [],
   "source": [
    "SQL_INSERT = \"\"\"\n",
    "    insert into swimmers\n",
    "        (name, age)\n",
    "        values\n",
    "        (?,?)\n",
    "\"\"\""
   ]
  },
  {
   "cell_type": "code",
   "execution_count": 8,
   "metadata": {},
   "outputs": [],
   "source": [
    "# eintragen\n",
    "with DBcm.UseDatabase(db_details) as db:\n",
    "    db.execute(SQL_INSERT, (name, age))"
   ]
  },
  {
   "cell_type": "code",
   "execution_count": 22,
   "metadata": {},
   "outputs": [],
   "source": [
    "SQL = \"\"\"\n",
    "    select * from swimmers\n",
    "\"\"\""
   ]
  },
  {
   "cell_type": "code",
   "execution_count": 23,
   "metadata": {},
   "outputs": [
    {
     "data": {
      "text/plain": [
       "[(122, 'Alison', 14),\n",
       " (123, 'Ruth', 13),\n",
       " (124, 'Tasmin', 15),\n",
       " (125, 'Blake', 15),\n",
       " (126, 'Maria', 9),\n",
       " (127, 'Katie', 9),\n",
       " (128, 'Darius', 13),\n",
       " (129, 'Erika', 15),\n",
       " (130, 'Katie', 9),\n",
       " (131, 'Lizzie', 14),\n",
       " (132, 'Mike', 15),\n",
       " (133, 'Lizzie', 14),\n",
       " (134, 'Emma', 13),\n",
       " (135, 'Carl', 15),\n",
       " (136, 'Ali', 12),\n",
       " (137, 'Tasmin', 15),\n",
       " (138, 'Katie', 9),\n",
       " (139, 'Calvin', 9),\n",
       " (140, 'Tasmin', 15),\n",
       " (141, 'Blake', 15),\n",
       " (142, 'Ruth', 13),\n",
       " (143, 'Tasmin', 15),\n",
       " (144, 'Dave', 17),\n",
       " (145, 'Chris', 17),\n",
       " (146, 'Hannah', 13),\n",
       " (147, 'Calvin', 9),\n",
       " (148, 'Erika', 15),\n",
       " (149, 'Ruth', 13),\n",
       " (150, 'Hannah', 13),\n",
       " (151, 'Abi', 10),\n",
       " (152, 'Darius', 13),\n",
       " (153, 'Katie', 9),\n",
       " (154, 'Owen', 15),\n",
       " (155, 'Bill', 18),\n",
       " (156, 'Elba', 14),\n",
       " (157, 'Aurora', 13),\n",
       " (158, 'Katie', 9),\n",
       " (159, 'Abi', 10),\n",
       " (160, 'Erika', 15),\n",
       " (161, 'Mike', 15),\n",
       " (162, 'Mike', 15),\n",
       " (163, 'Abi', 10),\n",
       " (164, 'Darius', 13),\n",
       " (165, 'Calvin', 9),\n",
       " (166, 'Darius', 13),\n",
       " (167, 'Mike', 15),\n",
       " (168, 'Abi', 10),\n",
       " (169, 'Dave', 17),\n",
       " (170, 'Katie', 9),\n",
       " (171, 'Emma', 13),\n",
       " (172, 'Alison', 14),\n",
       " (173, 'Bill', 18),\n",
       " (174, 'Abi', 10),\n",
       " (175, 'Ruth', 13),\n",
       " (176, 'Chris', 17),\n",
       " (177, 'Blake', 15),\n",
       " (178, 'Ali', 12),\n",
       " (179, 'Katie', 9),\n",
       " (180, 'Mike', 15),\n",
       " (181, 'Ruth', 13)]"
      ]
     },
     "execution_count": 23,
     "metadata": {},
     "output_type": "execute_result"
    }
   ],
   "source": [
    "# anlegen testen\n",
    "with DBcm.UseDatabase(db_details) as db:\n",
    "    db.execute(SQL)\n",
    "    result = db.fetchall()\n",
    "\n",
    "result"
   ]
  },
  {
   "cell_type": "code",
   "execution_count": 27,
   "metadata": {},
   "outputs": [],
   "source": [
    "SQL = \"\"\"\n",
    "    delete from swimmers\n",
    "\"\"\""
   ]
  },
  {
   "cell_type": "code",
   "execution_count": 28,
   "metadata": {},
   "outputs": [
    {
     "data": {
      "text/plain": [
       "[]"
      ]
     },
     "execution_count": 28,
     "metadata": {},
     "output_type": "execute_result"
    }
   ],
   "source": [
    "# löschen testen\n",
    "with DBcm.UseDatabase(db_details) as db:\n",
    "    db.execute(SQL)\n",
    "    result = db.fetchall()\n",
    "\n",
    "result"
   ]
  },
  {
   "cell_type": "code",
   "execution_count": 31,
   "metadata": {},
   "outputs": [
    {
     "name": "stdout",
     "output_type": "stream",
     "text": [
      "doppelt\n",
      "doppelt\n",
      "doppelt\n",
      "doppelt\n",
      "doppelt\n",
      "doppelt\n",
      "doppelt\n",
      "doppelt\n",
      "doppelt\n",
      "doppelt\n",
      "doppelt\n",
      "doppelt\n",
      "doppelt\n",
      "doppelt\n",
      "doppelt\n",
      "doppelt\n",
      "doppelt\n",
      "doppelt\n",
      "doppelt\n",
      "doppelt\n",
      "doppelt\n",
      "doppelt\n",
      "doppelt\n",
      "doppelt\n",
      "doppelt\n",
      "doppelt\n",
      "doppelt\n",
      "doppelt\n",
      "doppelt\n",
      "doppelt\n",
      "doppelt\n",
      "doppelt\n",
      "doppelt\n",
      "doppelt\n",
      "doppelt\n",
      "doppelt\n",
      "doppelt\n",
      "doppelt\n"
     ]
    }
   ],
   "source": [
    "## ganze swimmers Tabelle befüllen\n",
    "import os\n",
    "\n",
    "import DBcm\n",
    "\n",
    "import os\n",
    "\n",
    "db_details = \"CoachDB.sqlite3\"\n",
    "\n",
    "FOLDER = 'swimdata/'\n",
    "\n",
    "files = os.listdir(FOLDER)\n",
    "files.remove(\".DS_Store\")\n",
    "\n",
    "SQL_SELECT = \"\"\"\n",
    "    select * from swimmers\n",
    "        where name = ? and age = ?\n",
    "\"\"\"\n",
    "\n",
    "\n",
    "SQL_INSERT = \"\"\"\n",
    "    insert into swimmers\n",
    "        (name, age)\n",
    "        values\n",
    "        (?,?)\n",
    "\"\"\"\n",
    "\n",
    "# eintragen\n",
    "with DBcm.UseDatabase(db_details) as db:\n",
    "    for file in files:\n",
    "        name, age, _,_ = file.removesuffix('.txt').split('-')\n",
    "        db.execute(SQL_SELECT, (name, age))\n",
    "        if db.fetchall() :\n",
    "            #print(\"doppelt\")\n",
    "            continue\n",
    "        db.execute(SQL_INSERT, (name, age))\n",
    "    "
   ]
  },
  {
   "cell_type": "code",
   "execution_count": 32,
   "metadata": {},
   "outputs": [
    {
     "data": {
      "text/plain": [
       "[(182, 'Alison', 14),\n",
       " (183, 'Ruth', 13),\n",
       " (184, 'Tasmin', 15),\n",
       " (185, 'Blake', 15),\n",
       " (186, 'Maria', 9),\n",
       " (187, 'Katie', 9),\n",
       " (188, 'Darius', 13),\n",
       " (189, 'Erika', 15),\n",
       " (190, 'Lizzie', 14),\n",
       " (191, 'Mike', 15),\n",
       " (192, 'Emma', 13),\n",
       " (193, 'Carl', 15),\n",
       " (194, 'Ali', 12),\n",
       " (195, 'Calvin', 9),\n",
       " (196, 'Dave', 17),\n",
       " (197, 'Chris', 17),\n",
       " (198, 'Hannah', 13),\n",
       " (199, 'Abi', 10),\n",
       " (200, 'Owen', 15),\n",
       " (201, 'Bill', 18),\n",
       " (202, 'Elba', 14),\n",
       " (203, 'Aurora', 13)]"
      ]
     },
     "execution_count": 32,
     "metadata": {},
     "output_type": "execute_result"
    }
   ],
   "source": [
    "SQL = \"\"\"\n",
    "    select * from swimmers\n",
    "\"\"\"\n",
    "with DBcm.UseDatabase(db_details) as db:\n",
    "    db.execute(SQL)\n",
    "    result = db.fetchall()\n",
    "\n",
    "result"
   ]
  },
  {
   "cell_type": "code",
   "execution_count": 33,
   "metadata": {},
   "outputs": [
    {
     "name": "stdout",
     "output_type": "stream",
     "text": [
      "doppelt\n",
      "doppelt\n",
      "doppelt\n",
      "doppelt\n",
      "doppelt\n",
      "doppelt\n",
      "doppelt\n",
      "doppelt\n",
      "doppelt\n",
      "doppelt\n",
      "doppelt\n",
      "doppelt\n",
      "doppelt\n",
      "doppelt\n",
      "doppelt\n",
      "doppelt\n",
      "doppelt\n",
      "doppelt\n",
      "doppelt\n",
      "doppelt\n",
      "doppelt\n",
      "doppelt\n",
      "doppelt\n",
      "doppelt\n",
      "doppelt\n",
      "doppelt\n",
      "doppelt\n",
      "doppelt\n",
      "doppelt\n",
      "doppelt\n",
      "doppelt\n",
      "doppelt\n",
      "doppelt\n",
      "doppelt\n",
      "doppelt\n",
      "doppelt\n",
      "doppelt\n",
      "doppelt\n",
      "doppelt\n",
      "doppelt\n",
      "doppelt\n",
      "doppelt\n",
      "doppelt\n",
      "doppelt\n",
      "doppelt\n",
      "doppelt\n",
      "doppelt\n"
     ]
    }
   ],
   "source": [
    "## ganze swimmers Tabelle befüllen\n",
    "#import os\n",
    "\n",
    "#import DBcm\n",
    "\n",
    "#import os\n",
    "\n",
    "#db_details = \"CoachDB.sqlite3\"\n",
    "\n",
    "#FOLDER = 'swimdata/'\n",
    "\n",
    "#files = os.listdir(FOLDER)\n",
    "#files.remove(\".DS_Store\")\n",
    "\n",
    "SQL_SELECT = \"\"\"\n",
    "    select * from events\n",
    "        where distance = ? and stroke = ?\n",
    "\"\"\"\n",
    "\n",
    "\n",
    "SQL_INSERT = \"\"\"\n",
    "    insert into events\n",
    "        (distance, stroke)\n",
    "        values\n",
    "        (?,?)\n",
    "\"\"\"\n",
    "\n",
    "# eintragen\n",
    "with DBcm.UseDatabase(db_details) as db:\n",
    "    for file in files:\n",
    "        _,_,distance,stroke = file.removesuffix('.txt').split('-')\n",
    "        db.execute(SQL_SELECT, (distance, stroke))\n",
    "        if db.fetchall() :\n",
    "            #print(\"doppelt\")\n",
    "            continue\n",
    "        db.execute(SQL_INSERT, (distance, stroke))"
   ]
  },
  {
   "cell_type": "code",
   "execution_count": 34,
   "metadata": {},
   "outputs": [
    {
     "data": {
      "text/plain": [
       "[(1, '100m', 'Free'),\n",
       " (2, '100m', 'Back'),\n",
       " (3, '50m', 'Free'),\n",
       " (4, '200m', 'Breast'),\n",
       " (5, '50m', 'Fly'),\n",
       " (6, '50m', 'Back'),\n",
       " (7, '200m', 'Back'),\n",
       " (8, '100m', 'Breast'),\n",
       " (9, '200m', 'IM'),\n",
       " (10, '200m', 'Free'),\n",
       " (11, '100m', 'Fly'),\n",
       " (12, '50m', 'Breast'),\n",
       " (13, '400m', 'Free')]"
      ]
     },
     "execution_count": 34,
     "metadata": {},
     "output_type": "execute_result"
    }
   ],
   "source": [
    "SQL = \"\"\"\n",
    "    select * from events\n",
    "\"\"\"\n",
    "with DBcm.UseDatabase(db_details) as db:\n",
    "    db.execute(SQL)\n",
    "    result = db.fetchall()\n",
    "\n",
    "result"
   ]
  }
 ],
 "metadata": {
  "kernelspec": {
   "display_name": ".venv",
   "language": "python",
   "name": "python3"
  },
  "language_info": {
   "codemirror_mode": {
    "name": "ipython",
    "version": 3
   },
   "file_extension": ".py",
   "mimetype": "text/x-python",
   "name": "python",
   "nbconvert_exporter": "python",
   "pygments_lexer": "ipython3",
   "version": "3.12.3"
  }
 },
 "nbformat": 4,
 "nbformat_minor": 2
}
