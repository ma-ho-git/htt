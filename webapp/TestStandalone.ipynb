{
 "cells": [
  {
   "cell_type": "code",
   "execution_count": 4,
   "metadata": {},
   "outputs": [],
   "source": [
    "import json\n",
    "with open(\"records.json\") as jf:\n",
    "    records = json.load(jf)"
   ]
  },
  {
   "cell_type": "code",
   "execution_count": 2,
   "metadata": {},
   "outputs": [],
   "source": [
    "def event_lookup(event):\n",
    "    conversions = {\n",
    "    \"Free\":\"freestyle\",\n",
    "    \"Back\":\"backstroke\",\n",
    "    \"Breast\":\"breaststroke\",\n",
    "    \"Fly\":\"butterfly\",\n",
    "    \"IM\":\"individual medley\"\n",
    "}\n",
    "    *_, range, stroke = event.removesuffix(\".txt\").split(\"-\")\n",
    "    return f\"{range} {conversions[stroke]}\""
   ]
  },
  {
   "cell_type": "code",
   "execution_count": 3,
   "metadata": {},
   "outputs": [
    {
     "name": "stdout",
     "output_type": "stream",
     "text": [
      "100m individual medley\n",
      "100m breaststroke\n",
      "100m butterfly\n",
      "100m backstroke\n"
     ]
    }
   ],
   "source": [
    "print(event_lookup(\"Darius-13-100m-IM.txt\"))\n",
    "print(event_lookup(\"Darius-13-100m-Breast.txt\"))\n",
    "print(event_lookup(\"Darius-13-100m-Fly.txt\"))\n",
    "print(event_lookup(\"Darius-13-100m-Back.txt\"))"
   ]
  },
  {
   "cell_type": "code",
   "execution_count": 5,
   "metadata": {},
   "outputs": [
    {
     "name": "stdout",
     "output_type": "stream",
     "text": [
      "49.45\n",
      "55.18\n",
      "47.78\n",
      "54.05\n"
     ]
    }
   ],
   "source": [
    "COURSES = (\"LC Men\", \"LC Women\", \"SC Men\", \"SC Women\")\n",
    "\n",
    "for course in COURSES:\n",
    "    print(records[course][event_lookup(\"Darius-13-100m-Fly.txt\")])"
   ]
  },
  {
   "cell_type": "code",
   "execution_count": 7,
   "metadata": {},
   "outputs": [
    {
     "name": "stdout",
     "output_type": "stream",
     "text": [
      "['49.45']\n",
      "['49.45', '55.18']\n",
      "['49.45', '55.18', '47.78']\n",
      "['49.45', '55.18', '47.78', '54.05']\n"
     ]
    }
   ],
   "source": [
    "COURSES = (\"LC Men\", \"LC Women\", \"SC Men\", \"SC Women\")\n",
    "fn = \"Darius-13-100m-Fly.txt\"\n",
    "times = []\n",
    "for course in COURSES:\n",
    "    times.append(records[course][event_lookup(fn)])"
   ]
  }
 ],
 "metadata": {
  "kernelspec": {
   "display_name": ".venv",
   "language": "python",
   "name": "python3"
  },
  "language_info": {
   "codemirror_mode": {
    "name": "ipython",
    "version": 3
   },
   "file_extension": ".py",
   "mimetype": "text/x-python",
   "name": "python",
   "nbconvert_exporter": "python",
   "pygments_lexer": "ipython3",
   "version": "3.12.3"
  }
 },
 "nbformat": 4,
 "nbformat_minor": 2
}
